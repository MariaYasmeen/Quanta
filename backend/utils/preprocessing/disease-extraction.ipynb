{
 "cells": [
  {
   "cell_type": "code",
   "execution_count": null,
   "metadata": {
    "execution": {
     "iopub.execute_input": "2025-03-02T17:26:33.413556Z",
     "iopub.status.busy": "2025-03-02T17:26:33.413247Z",
     "iopub.status.idle": "2025-03-02T17:26:37.053243Z",
     "shell.execute_reply": "2025-03-02T17:26:37.052071Z",
     "shell.execute_reply.started": "2025-03-02T17:26:33.413536Z"
    },
    "trusted": true
   },
   "outputs": [
    {
     "name": "stdout",
     "output_type": "stream",
     "text": [
      "Requirement already satisfied: langchain in /usr/local/lib/python3.10/dist-packages (0.3.12)\n",
      "Requirement already satisfied: pytesseract in /usr/local/lib/python3.10/dist-packages (0.3.13)\n",
      "Requirement already satisfied: opencv-python in /usr/local/lib/python3.10/dist-packages (4.10.0.84)\n",
      "Requirement already satisfied: numpy in /usr/local/lib/python3.10/dist-packages (1.26.4)\n",
      "Requirement already satisfied: PyMuPDF in /usr/local/lib/python3.10/dist-packages (1.25.3)\n",
      "Requirement already satisfied: Pillow in /usr/local/lib/python3.10/dist-packages (11.0.0)\n",
      "Requirement already satisfied: PyYAML>=5.3 in /usr/local/lib/python3.10/dist-packages (from langchain) (6.0.2)\n",
      "Requirement already satisfied: SQLAlchemy<3,>=1.4 in /usr/local/lib/python3.10/dist-packages (from langchain) (2.0.36)\n",
      "Requirement already satisfied: aiohttp<4.0.0,>=3.8.3 in /usr/local/lib/python3.10/dist-packages (from langchain) (3.11.12)\n",
      "Requirement already satisfied: async-timeout<5.0.0,>=4.0.0 in /usr/local/lib/python3.10/dist-packages (from langchain) (4.0.3)\n",
      "Requirement already satisfied: langchain-core<0.4.0,>=0.3.25 in /usr/local/lib/python3.10/dist-packages (from langchain) (0.3.25)\n",
      "Requirement already satisfied: langchain-text-splitters<0.4.0,>=0.3.3 in /usr/local/lib/python3.10/dist-packages (from langchain) (0.3.3)\n",
      "Requirement already satisfied: langsmith<0.3,>=0.1.17 in /usr/local/lib/python3.10/dist-packages (from langchain) (0.2.3)\n",
      "Requirement already satisfied: pydantic<3.0.0,>=2.7.4 in /usr/local/lib/python3.10/dist-packages (from langchain) (2.11.0a2)\n",
      "Requirement already satisfied: requests<3,>=2 in /usr/local/lib/python3.10/dist-packages (from langchain) (2.32.3)\n",
      "Requirement already satisfied: tenacity!=8.4.0,<10,>=8.1.0 in /usr/local/lib/python3.10/dist-packages (from langchain) (9.0.0)\n",
      "Requirement already satisfied: packaging>=21.3 in /usr/local/lib/python3.10/dist-packages (from pytesseract) (24.2)\n",
      "Requirement already satisfied: mkl_fft in /usr/local/lib/python3.10/dist-packages (from numpy) (1.3.8)\n",
      "Requirement already satisfied: mkl_random in /usr/local/lib/python3.10/dist-packages (from numpy) (1.2.4)\n",
      "Requirement already satisfied: mkl_umath in /usr/local/lib/python3.10/dist-packages (from numpy) (0.1.1)\n",
      "Requirement already satisfied: mkl in /usr/local/lib/python3.10/dist-packages (from numpy) (2025.0.1)\n",
      "Requirement already satisfied: tbb4py in /usr/local/lib/python3.10/dist-packages (from numpy) (2022.0.0)\n",
      "Requirement already satisfied: mkl-service in /usr/local/lib/python3.10/dist-packages (from numpy) (2.4.1)\n",
      "Requirement already satisfied: aiohappyeyeballs>=2.3.0 in /usr/local/lib/python3.10/dist-packages (from aiohttp<4.0.0,>=3.8.3->langchain) (2.4.6)\n",
      "Requirement already satisfied: aiosignal>=1.1.2 in /usr/local/lib/python3.10/dist-packages (from aiohttp<4.0.0,>=3.8.3->langchain) (1.3.2)\n",
      "Requirement already satisfied: attrs>=17.3.0 in /usr/local/lib/python3.10/dist-packages (from aiohttp<4.0.0,>=3.8.3->langchain) (25.1.0)\n",
      "Requirement already satisfied: frozenlist>=1.1.1 in /usr/local/lib/python3.10/dist-packages (from aiohttp<4.0.0,>=3.8.3->langchain) (1.5.0)\n",
      "Requirement already satisfied: multidict<7.0,>=4.5 in /usr/local/lib/python3.10/dist-packages (from aiohttp<4.0.0,>=3.8.3->langchain) (6.1.0)\n",
      "Requirement already satisfied: propcache>=0.2.0 in /usr/local/lib/python3.10/dist-packages (from aiohttp<4.0.0,>=3.8.3->langchain) (0.2.1)\n",
      "Requirement already satisfied: yarl<2.0,>=1.17.0 in /usr/local/lib/python3.10/dist-packages (from aiohttp<4.0.0,>=3.8.3->langchain) (1.18.3)\n",
      "Requirement already satisfied: jsonpatch<2.0,>=1.33 in /usr/local/lib/python3.10/dist-packages (from langchain-core<0.4.0,>=0.3.25->langchain) (1.33)\n",
      "Requirement already satisfied: typing-extensions>=4.7 in /usr/local/lib/python3.10/dist-packages (from langchain-core<0.4.0,>=0.3.25->langchain) (4.12.2)\n",
      "Requirement already satisfied: httpx<1,>=0.23.0 in /usr/local/lib/python3.10/dist-packages (from langsmith<0.3,>=0.1.17->langchain) (0.28.1)\n",
      "Requirement already satisfied: orjson<4.0.0,>=3.9.14 in /usr/local/lib/python3.10/dist-packages (from langsmith<0.3,>=0.1.17->langchain) (3.10.12)\n",
      "Requirement already satisfied: requests-toolbelt<2.0.0,>=1.0.0 in /usr/local/lib/python3.10/dist-packages (from langsmith<0.3,>=0.1.17->langchain) (1.0.0)\n",
      "Requirement already satisfied: annotated-types>=0.6.0 in /usr/local/lib/python3.10/dist-packages (from pydantic<3.0.0,>=2.7.4->langchain) (0.7.0)\n",
      "Requirement already satisfied: pydantic-core==2.29.0 in /usr/local/lib/python3.10/dist-packages (from pydantic<3.0.0,>=2.7.4->langchain) (2.29.0)\n",
      "Requirement already satisfied: charset-normalizer<4,>=2 in /usr/local/lib/python3.10/dist-packages (from requests<3,>=2->langchain) (3.4.1)\n",
      "Requirement already satisfied: idna<4,>=2.5 in /usr/local/lib/python3.10/dist-packages (from requests<3,>=2->langchain) (3.10)\n",
      "Requirement already satisfied: urllib3<3,>=1.21.1 in /usr/local/lib/python3.10/dist-packages (from requests<3,>=2->langchain) (2.3.0)\n",
      "Requirement already satisfied: certifi>=2017.4.17 in /usr/local/lib/python3.10/dist-packages (from requests<3,>=2->langchain) (2025.1.31)\n",
      "Requirement already satisfied: greenlet!=0.4.17 in /usr/local/lib/python3.10/dist-packages (from SQLAlchemy<3,>=1.4->langchain) (3.1.1)\n",
      "Requirement already satisfied: intel-openmp>=2024 in /usr/local/lib/python3.10/dist-packages (from mkl->numpy) (2024.2.0)\n",
      "Requirement already satisfied: tbb==2022.* in /usr/local/lib/python3.10/dist-packages (from mkl->numpy) (2022.0.0)\n",
      "Requirement already satisfied: tcmlib==1.* in /usr/local/lib/python3.10/dist-packages (from tbb==2022.*->mkl->numpy) (1.2.0)\n",
      "Requirement already satisfied: intel-cmplr-lib-rt in /usr/local/lib/python3.10/dist-packages (from mkl_umath->numpy) (2024.2.0)\n",
      "Requirement already satisfied: anyio in /usr/local/lib/python3.10/dist-packages (from httpx<1,>=0.23.0->langsmith<0.3,>=0.1.17->langchain) (3.7.1)\n",
      "Requirement already satisfied: httpcore==1.* in /usr/local/lib/python3.10/dist-packages (from httpx<1,>=0.23.0->langsmith<0.3,>=0.1.17->langchain) (1.0.7)\n",
      "Requirement already satisfied: h11<0.15,>=0.13 in /usr/local/lib/python3.10/dist-packages (from httpcore==1.*->httpx<1,>=0.23.0->langsmith<0.3,>=0.1.17->langchain) (0.14.0)\n",
      "Requirement already satisfied: intel-cmplr-lib-ur==2024.2.0 in /usr/local/lib/python3.10/dist-packages (from intel-openmp>=2024->mkl->numpy) (2024.2.0)\n",
      "Requirement already satisfied: jsonpointer>=1.9 in /usr/local/lib/python3.10/dist-packages (from jsonpatch<2.0,>=1.33->langchain-core<0.4.0,>=0.3.25->langchain) (3.0.0)\n",
      "Requirement already satisfied: sniffio>=1.1 in /usr/local/lib/python3.10/dist-packages (from anyio->httpx<1,>=0.23.0->langsmith<0.3,>=0.1.17->langchain) (1.3.1)\n",
      "Requirement already satisfied: exceptiongroup in /usr/local/lib/python3.10/dist-packages (from anyio->httpx<1,>=0.23.0->langsmith<0.3,>=0.1.17->langchain) (1.2.2)\n"
     ]
    }
   ],
   "source": [
    "%pip install langchain pytesseract opencv-python numpy PyMuPDF Pillow"
   ]
  },
  {
   "cell_type": "code",
   "execution_count": null,
   "metadata": {
    "execution": {
     "iopub.execute_input": "2025-03-02T17:26:37.055053Z",
     "iopub.status.busy": "2025-03-02T17:26:37.054770Z",
     "iopub.status.idle": "2025-03-02T17:26:40.435565Z",
     "shell.execute_reply": "2025-03-02T17:26:40.434658Z",
     "shell.execute_reply.started": "2025-03-02T17:26:37.055030Z"
    },
    "trusted": true
   },
   "outputs": [
    {
     "name": "stdout",
     "output_type": "stream",
     "text": [
      "Requirement already satisfied: PyMuPDF in /usr/local/lib/python3.10/dist-packages (1.25.3)\n"
     ]
    }
   ],
   "source": [
    "%pip install PyMuPDF"
   ]
  },
  {
   "cell_type": "code",
   "execution_count": null,
   "metadata": {
    "execution": {
     "iopub.execute_input": "2025-03-02T17:26:40.438006Z",
     "iopub.status.busy": "2025-03-02T17:26:40.437716Z",
     "iopub.status.idle": "2025-03-02T17:26:40.442318Z",
     "shell.execute_reply": "2025-03-02T17:26:40.441393Z",
     "shell.execute_reply.started": "2025-03-02T17:26:40.437981Z"
    },
    "trusted": true
   },
   "outputs": [],
   "source": [
    "import os\n",
    "import pytesseract\n",
    "import cv2\n",
    "import numpy as np\n",
    "import json\n",
    "import io\n",
    "import fitz\n",
    "from PIL import Image"
   ]
  },
  {
   "cell_type": "code",
   "execution_count": 23,
   "metadata": {
    "execution": {
     "iopub.execute_input": "2025-03-02T17:26:40.443949Z",
     "iopub.status.busy": "2025-03-02T17:26:40.443682Z",
     "iopub.status.idle": "2025-03-02T17:26:40.455740Z",
     "shell.execute_reply": "2025-03-02T17:26:40.454989Z",
     "shell.execute_reply.started": "2025-03-02T17:26:40.443928Z"
    },
    "trusted": true
   },
   "outputs": [],
   "source": [
    "def pdf_to_images(pdf_path, dpi=300):\n",
    "    doc = fitz.open(pdf_path)\n",
    "    images = []\n",
    "    for page_num in range(len(doc)):\n",
    "        pix = doc[page_num].get_pixmap(matrix=fitz.Matrix(dpi/72, dpi/72))\n",
    "        img = Image.open(io.BytesIO(pix.tobytes(\"ppm\")))\n",
    "        images.append(img)\n",
    "    return images"
   ]
  },
  {
   "cell_type": "code",
   "execution_count": null,
   "metadata": {
    "execution": {
     "iopub.execute_input": "2025-03-02T17:26:40.456948Z",
     "iopub.status.busy": "2025-03-02T17:26:40.456636Z",
     "iopub.status.idle": "2025-03-02T17:26:40.467136Z",
     "shell.execute_reply": "2025-03-02T17:26:40.466412Z",
     "shell.execute_reply.started": "2025-03-02T17:26:40.456919Z"
    },
    "trusted": true
   },
   "outputs": [],
   "source": [
    "def preprocess_pdf(pdf_dir):\n",
    "    pdf_files = [f for f in os.listdir(pdf_dir) if f.endswith('.pdf')]\n",
    "    extracted_data = {}\n",
    "    \n",
    "    for pdf_file in pdf_files:\n",
    "        pdf_path = os.path.join(pdf_dir, pdf_file)\n",
    "        try: \n",
    "            # Convert pdf to image\n",
    "            images = pdf_to_images(pdf_path)\n",
    "            full_text = []\n",
    "            \n",
    "            for image in images:\n",
    "                # Convert PIL to OpenCV image format\n",
    "                open_cv_image = cv2.cvtColor(np.array(image), cv2.COLOR_RGB2BGR)\n",
    "                \n",
    "                # Gray-scale the image\n",
    "                gray = cv2.cvtColor(open_cv_image, cv2.COLOR_BGR2GRAY)\n",
    "                \n",
    "                # Denoising\n",
    "                denoised_img = cv2.fastNlMeansDenoising(gray, None, 10, 7, 21)\n",
    "                \n",
    "                # Adaptive Tresholding \n",
    "                adaptive_thresh = cv2.adaptiveThreshold(denoised_img, 255, cv2.ADAPTIVE_THRESH_GAUSSIAN_C, cv2.THRESH_BINARY, 11, 2)\n",
    "                \n",
    "                # Extract text using Tesseract\n",
    "                text = pytesseract.image_to_string(adaptive_thresh, config='--psm 6') \n",
    "                full_text.append(text)\n",
    "                \n",
    "            # Save to extracted text into the dictionary\n",
    "            extracted_data[pdf_file] = ' '.join(full_text)\n",
    "            \n",
    "        except Exception as e:\n",
    "            print(f\"Error processing {pdf_file}: {str(e)}\")\n",
    "\n",
    "    # Ensure the directory exists\n",
    "    output_dir = \"/kaggle/working\"\n",
    "    os.makedirs(output_dir, exist_ok=True)\n",
    "\n",
    "    # Save extracted text to a json file\n",
    "    output_file = os.path.join(output_dir, 'extracted_text.json')\n",
    "    with open(output_file, 'w', encoding='utf-8') as f:\n",
    "        json.dump(extracted_data, f, ensure_ascii=False, indent=4)\n",
    "\n",
    "    print(f\"Extracted text saved to {output_file}\")"
   ]
  },
  {
   "cell_type": "code",
   "execution_count": 25,
   "metadata": {
    "execution": {
     "iopub.execute_input": "2025-03-02T17:26:40.468269Z",
     "iopub.status.busy": "2025-03-02T17:26:40.468002Z",
     "iopub.status.idle": "2025-03-02T17:41:19.319257Z",
     "shell.execute_reply": "2025-03-02T17:41:19.318475Z",
     "shell.execute_reply.started": "2025-03-02T17:26:40.468249Z"
    },
    "trusted": true
   },
   "outputs": [
    {
     "name": "stdout",
     "output_type": "stream",
     "text": [
      "Extracted text saved to /kaggle/working/extracted_text.json\n"
     ]
    }
   ],
   "source": [
    "pdf_dir = \"/kaggle/input/disease-fact-sheet/Disease_Fact_Sheet\"\n",
    "preprocess_pdf(pdf_dir)"
   ]
  },
  {
   "cell_type": "code",
   "execution_count": null,
   "metadata": {
    "execution": {
     "iopub.execute_input": "2025-03-02T17:41:19.320340Z",
     "iopub.status.busy": "2025-03-02T17:41:19.320085Z",
     "iopub.status.idle": "2025-03-02T17:41:19.325678Z",
     "shell.execute_reply": "2025-03-02T17:41:19.324758Z",
     "shell.execute_reply.started": "2025-03-02T17:41:19.320317Z"
    },
    "trusted": true
   },
   "outputs": [
    {
     "name": "stdout",
     "output_type": "stream",
     "text": [
      "File successfully created at: /kaggle/working/extracted_text.json\n"
     ]
    }
   ],
   "source": [
    "# Check if the file is successfully created\n",
    "import os\n",
    "output_file = \"/kaggle/working/extracted_text.json\"\n",
    "if os.path.exists(output_file):\n",
    "    print(f\"File successfully created at: {output_file}\")\n",
    "else:\n",
    "    print(f\"File not found at: {output_file}\")"
   ]
  },
  {
   "cell_type": "code",
   "execution_count": null,
   "metadata": {
    "execution": {
     "iopub.execute_input": "2025-03-02T17:41:19.327674Z",
     "iopub.status.busy": "2025-03-02T17:41:19.327456Z",
     "iopub.status.idle": "2025-03-02T17:41:19.343305Z",
     "shell.execute_reply": "2025-03-02T17:41:19.342623Z",
     "shell.execute_reply.started": "2025-03-02T17:41:19.327633Z"
    },
    "trusted": true
   },
   "outputs": [
    {
     "name": "stdout",
     "output_type": "stream",
     "text": [
      "['Disease_Fact_Sheet']\n",
      "['Rocky_Mountain_Spotted_Fever.pdf', 'Avian_Influenza.pdf', 'Leptospirosis.pdf', 'Lyme_Disease.pdf', 'HIB.pdf', 'Bed_Bugs.pdf', 'Roseola.pdf', 'Rotavirus.pdf', 'Influenza.pdf', 'Impetigo.pdf', 'Strep_Throat.pdf', 'Kawasaki_Disease.pdf', 'Malaria.pdf', 'Tularemia.pdf', 'H1N1.pdf', 'Hepatitis_B.pdf', 'Ringworm.pdf', 'Ciguatera_Fish_Poisoning.pdf', 'Group_A_Streptococcal_Disease.pdf', 'Brucellosis.pdf', 'Molluscum_Contagiosum.pdf', 'Chickenpox.pdf', 'CMV.pdf', 'Shigella.pdf', 'Mumps.pdf', 'Scarlet_Fever.pdf', 'Polio.pdf', 'MRSA.pdf', 'Pneumonia.pdf', 'Cyclosporiasis.pdf', 'Diphtheria.pdf', 'WNV.pdf', 'HIV.pdf', 'Ebola.pdf', 'Gastroenteritis.pdf', 'Cat_Scratch_Disease.pdf', 'Pinworm.pdf', 'Otitis_Media.pdf', 'Mononucleosis.pdf', 'Scabies.pdf', 'Psittacosis.pdf', 'Trichinosis.pdf', 'Hemolytic_Uremic_Syndrome.pdf', 'Staph.pdf', 'Plague.pdf', 'Head_Lice.pdf', 'Measles.pdf', 'Carbapenem_Resistant_Acinetobacter.pdf', 'Syphilis.pdf', 'Histoplasmosis.pdf', 'Listeriosis.pdf', 'Tetanus.pdf', 'Cholera.pdf', 'Campylobacter.pdf', 'Anthrax.pdf', 'Yellow_Fever.pdf', 'MERS.pdf', 'Swimmer_Itch.pdf', 'Sporotrichosis.pdf', 'Pertussis.pdf', 'Legionellosis.pdf', 'Carbapenem_Resistant_Enterobacterales.pdf', 'Chlamydia.pdf', 'Genital_Herpes.pdf', 'Vibriosis.pdf', 'HFMD.pdf', 'Cold_Sore.pdf', 'Hepatitis_A.pdf', 'Shingles.pdf', 'E.coli.pdf', 'Giardia.pdf', 'Trichomoniasis.pdf', 'Dengue.pdf', 'Marburg.pdf', 'RSV.pdf', 'Fifth_Disease.pdf', 'Smallpox.pdf', 'Rabies.pdf', 'Staphylococcal.pdf', 'Streptococcus_Pneumoniae.pdf', 'Norovirus.pdf', 'Chikungunya.pdf', 'Amebiasis.pdf', 'Zika.pdf', 'Rubella.pdf', 'Thrush.pdf', 'Meningitis.pdf', 'Cryptosporidiosis.pdf', 'Common_Cold.pdf', 'Typhoid_Fever.pdf', 'Hepatitis_C.pdf', 'Salmonella.pdf', 'Botulism.pdf', 'Conjunctivitis.pdf', 'Babesiosis.pdf', 'Leprosy.pdf', 'Yersiniosis.pdf', 'Ricin.pdf']\n"
     ]
    }
   ],
   "source": [
    "# Check if the folder and pdfs exists\n",
    "import os\n",
    "print(os.listdir(\"/kaggle/input/disease-fact-sheet\"))\n",
    "print(os.listdir(\"/kaggle/input/disease-fact-sheet/Disease_Fact_Sheet\"))"
   ]
  },
  {
   "cell_type": "code",
   "execution_count": null,
   "metadata": {
    "trusted": true
   },
   "outputs": [],
   "source": []
  }
 ],
 "metadata": {
  "kaggle": {
   "accelerator": "nvidiaTeslaT4",
   "dataSources": [
    {
     "datasetId": 6773937,
     "sourceId": 10899586,
     "sourceType": "datasetVersion"
    }
   ],
   "dockerImageVersionId": 30918,
   "isGpuEnabled": true,
   "isInternetEnabled": true,
   "language": "python",
   "sourceType": "notebook"
  },
  "kernelspec": {
   "display_name": "Python 3",
   "language": "python",
   "name": "python3"
  },
  "language_info": {
   "codemirror_mode": {
    "name": "ipython",
    "version": 3
   },
   "file_extension": ".py",
   "mimetype": "text/x-python",
   "name": "python",
   "nbconvert_exporter": "python",
   "pygments_lexer": "ipython3",
   "version": "3.10.12"
  }
 },
 "nbformat": 4,
 "nbformat_minor": 4
}
